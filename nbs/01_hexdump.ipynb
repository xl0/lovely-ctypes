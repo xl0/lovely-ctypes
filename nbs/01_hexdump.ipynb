{
 "cells": [
  {
   "cell_type": "markdown",
   "id": "7dc6e7a4",
   "metadata": {},
   "source": [
    "# Hexdump and Hexdiff\n",
    "\n",
    "> Converting bytes to characters"
   ]
  },
  {
   "cell_type": "code",
   "execution_count": null,
   "id": "aeaadc49",
   "metadata": {},
   "outputs": [],
   "source": [
    "#| default_exp hexdump"
   ]
  },
  {
   "cell_type": "code",
   "execution_count": null,
   "id": "23458d81",
   "metadata": {},
   "outputs": [],
   "source": [
    "#| hide\n",
    "from nbdev.showdoc import *"
   ]
  },
  {
   "cell_type": "code",
   "execution_count": null,
   "id": "cb55c9c4",
   "metadata": {},
   "outputs": [],
   "source": [
    "#| export\n",
    "import ctypes\n",
    "from collections import UserList\n",
    "from pretty_ctypes.hexint import hexint, asciiint, HexInt, NamedInt, ctypes_int_types, ctypes_signed_types\n",
    "from pretty_ctypes.utils import colored, batched"
   ]
  },
  {
   "cell_type": "code",
   "execution_count": null,
   "id": "02d30fdf",
   "metadata": {},
   "outputs": [],
   "source": [
    "#| export\n",
    "\n",
    "def hexdump_line(chunk, bits, ascii=None, width=128, highlight=None):\n",
    "  if ascii is None: ascii = True if bits == 8 else False\n",
    "  if highlight is None: highlight = [None]*len(chunk)\n",
    "  highlight = highlight + ([None]*(len(chunk)-len(highlight)))\n",
    "\n",
    "  # Group the output into 64-bit groups if it's long: 40 41 42 43 44 45 46 47  48 49 4A 4B 4C 4D 4E 4F\n",
    "  sub_width = 64 if width >= 128 else width\n",
    "  res = \"  \".join(\" \".join(colored(hexint(d, bits), hl) for d, hl in sub)\n",
    "                  for sub in batched(list(zip(chunk, highlight)), sub_width // bits))\n",
    "\n",
    "\n",
    "  # Pad with spaces in case this needs to be align\n",
    "  res += ((\" \" * (bits // 4)) + \" \") * (width//bits - (len(chunk))) + (\" \" if len(chunk) < sub_width//bits else \"\")\n",
    "  if ascii:\n",
    "    res += f\"  |{''.join(colored(asciiint(d, bits), hl) for d, hl in zip(chunk, highlight, strict=False))}|\" + (\" \" * (width//bits - (len(chunk))))\n",
    "  return res"
   ]
  },
  {
   "cell_type": "code",
   "execution_count": null,
   "id": "a3bc60f2",
   "metadata": {},
   "outputs": [
    {
     "name": "stdout",
     "output_type": "stream",
     "text": [
      "00 01 02 03 04 05 06 07  08 09 0A 0B 0C 0D 0E 0F  |................|\n"
     ]
    }
   ],
   "source": [
    "print(hexdump_line(range(16), 8))"
   ]
  },
  {
   "cell_type": "code",
   "execution_count": null,
   "id": "1224539b",
   "metadata": {},
   "outputs": [
    {
     "name": "stdout",
     "output_type": "stream",
     "text": [
      "12345678 12345679  1234567A 1234567B  |.4Vx.4Vy.4Vz.4V{|\n"
     ]
    }
   ],
   "source": [
    "print(hexdump_line(range(0x12345678, 0x12345678+4), 32, ascii=True))"
   ]
  },
  {
   "cell_type": "code",
   "execution_count": null,
   "id": "99260ced",
   "metadata": {},
   "outputs": [
    {
     "name": "stdout",
     "output_type": "stream",
     "text": [
      "\u001b[31m12345678\u001b[0m \u001b[32m12345679\u001b[0m  \u001b[90m1234567A\u001b[0m \u001b[44m1234567B\u001b[0m  |\u001b[31m.4Vx\u001b[0m\u001b[32m.4Vy\u001b[0m\u001b[90m.4Vz\u001b[0m\u001b[44m.4V{\u001b[0m|\n"
     ]
    }
   ],
   "source": [
    "print(hexdump_line(range(0x12345678, 0x12345678+4), 32, ascii=True, highlight=[\"red\", \"green\", \"BLACK\", (None, \"blue\")]))"
   ]
  },
  {
   "cell_type": "code",
   "execution_count": null,
   "id": "25dc2d32",
   "metadata": {},
   "outputs": [
    {
     "name": "stdout",
     "output_type": "stream",
     "text": [
      "00 01 02 03 04 05 06 07  08 09 0A 0B 0C 0D 0E 0F  10 11 12 13 14 15 16 17  18 19 1A 1B 1C 1D 1E 1F  |................................|\n"
     ]
    }
   ],
   "source": [
    "print(hexdump_line(range(32), 8, ascii=True, width=128))"
   ]
  },
  {
   "cell_type": "code",
   "execution_count": null,
   "id": "2d382144",
   "metadata": {},
   "outputs": [],
   "source": [
    "#| export\n",
    "\n",
    "def hexdump(data, bits, highlight=None, ascii=None, width=128):\n",
    "    width = max(width, bits)\n",
    "    if highlight is None: highlight = []\n",
    "\n",
    "    if len(highlight) < len(data):\n",
    "        highlight = highlight + ([None] * (len(data) - len(highlight)))\n",
    "\n",
    "    chunks = zip(batched(data, width // bits), batched(highlight, width // bits))\n",
    "    lines = [hexdump_line(d, bits=bits, ascii=ascii, width=width, highlight=h) for d, h in chunks]\n",
    "\n",
    "    addr_digits = len(f\"{(len(lines) - 1)*(width//8):X}\")\n",
    "    return \"\\n\".join(f\"{(i*width)//8:0{addr_digits}X}: {lines[i]}\" for i in range(len(lines)))"
   ]
  },
  {
   "cell_type": "code",
   "execution_count": null,
   "id": "6c588560",
   "metadata": {},
   "outputs": [
    {
     "name": "stdout",
     "output_type": "stream",
     "text": [
      "00: \u001b[90m00\u001b[0m 01 \u001b[31m02\u001b[0m \u001b[91m03\u001b[0m 04 05 06 07  08 09 0A 0B 0C 0D 0E 0F  |\u001b[90m.\u001b[0m.\u001b[31m.\u001b[0m\u001b[91m.\u001b[0m............|\n",
      "10: 10 11 12 13 14 15 16 17  18 19 1A 1B 1C 1D 1E 1F  |................|\n",
      "20: 20 21 22 23 24 25 26 27  28 29 2A 2B 2C 2D 2E 2F  | !\"#$%&'()*+,-./|\n",
      "30: 30 31 32 33 34 35 36 37  38 39 3A 3B 3C 3D 3E 3F  |0123456789:;<=>?|\n"
     ]
    }
   ],
   "source": [
    "print(hexdump(list(range(64)), 8, highlight=[\"BLACK\", None, \"red\", \"RED\"]))"
   ]
  },
  {
   "cell_type": "code",
   "execution_count": null,
   "id": "6571b99d",
   "metadata": {},
   "outputs": [
    {
     "name": "stdout",
     "output_type": "stream",
     "text": [
      "00: \u001b[90m00000030\u001b[0m 00000031  \u001b[31m00000032\u001b[0m \u001b[91m00000033\u001b[0m  |\u001b[90m...0\u001b[0m...1\u001b[31m...2\u001b[0m\u001b[91m...3\u001b[0m|\n",
      "10: \u001b[90m00000034\u001b[0m 00000035  \u001b[31m00000036\u001b[0m \u001b[91m00000037\u001b[0m  |\u001b[90m...4\u001b[0m...5\u001b[31m...6\u001b[0m\u001b[91m...7\u001b[0m|\n",
      "20: 00000038 00000039  0000003A 0000003B  |...8...9...:...;|\n",
      "30: 0000003C 0000003D  0000003E 0000003F  |...<...=...>...?|\n"
     ]
    }
   ],
   "source": [
    "print(hexdump(range(48, 64), 32, ascii=True, highlight=[\"BLACK\", None, \"red\", \"RED\"]*2))"
   ]
  },
  {
   "cell_type": "code",
   "execution_count": null,
   "id": "63c0358f",
   "metadata": {},
   "outputs": [
    {
     "name": "stdout",
     "output_type": "stream",
     "text": [
      "00: \u001b[90m00\u001b[0m 01 02 03 04 05 06 07  \u001b[90m00\u001b[0m 01 02 03 04 05 06 07  |\u001b[90m.\u001b[0m.......\u001b[90m.\u001b[0m.......|\n",
      "10: \u001b[90m00\u001b[0m 01 02 03 04 05 06 07  \u001b[90m00\u001b[0m 01 02 03 04 05 06 07  |\u001b[90m.\u001b[0m.......\u001b[90m.\u001b[0m.......|\n",
      "20: \u001b[90m00\u001b[0m 01 02 03 04 05 06 07  \u001b[90m00\u001b[0m 01 02 03 04 05 06 07  |\u001b[90m.\u001b[0m.......\u001b[90m.\u001b[0m.......|\n",
      "30: \u001b[90m00\u001b[0m 01 02 03 04 05 06 07  \u001b[90m00\u001b[0m 01 02 03 04 05 06 07  |\u001b[90m.\u001b[0m.......\u001b[90m.\u001b[0m.......|\n"
     ]
    }
   ],
   "source": [
    "data = list(range(8)) * 8\n",
    "print(hexdump(data, bits=8, highlight=[ \"BLACK\" if d==0 else None for d in data] ))"
   ]
  },
  {
   "cell_type": "code",
   "execution_count": null,
   "id": "8aabd220",
   "metadata": {},
   "outputs": [],
   "source": [
    "#| export\n",
    "\n",
    "def hexdiff(data1, data2, bits, ascii=None, width=128):\n",
    "    \"\"\"\n",
    "    Compare two arrays side by side in hexdump format, highlighting differences in CYAN color.\n",
    "\n",
    "    Args:\n",
    "        data1: First array to compare\n",
    "        data2: Second array to compare\n",
    "        bits: Number of bits per element (8, 16, 32, etc.)\n",
    "        ascii: Whether to show ASCII representation (default: True for 8-bit, False otherwise)\n",
    "        width: Width of each line in bits (default: 128)\n",
    "\n",
    "    Returns:\n",
    "        String with the side-by-side hexdump comparison\n",
    "    \"\"\"\n",
    "    width = max(width, bits)\n",
    "    if ascii is None: ascii = True if bits == 8 else False\n",
    "\n",
    "    elems_per_line = width // bits\n",
    "\n",
    "    lines_data1 = (len(data1) + elems_per_line - 1) // elems_per_line\n",
    "    lines_data2 = (len(data2) + elems_per_line - 1) // elems_per_line\n",
    "    total_lines = max(lines_data1, lines_data2)\n",
    "\n",
    "    addr_digits = len(f\"{(total_lines - 1)*(width//8):X}\")\n",
    "    result = []\n",
    "\n",
    "    for i in range(total_lines):\n",
    "        start_idx = i * elems_per_line\n",
    "        end_idx = min(start_idx + elems_per_line, len(data1))\n",
    "        end_idx2 = min(start_idx + elems_per_line, len(data2))\n",
    "\n",
    "        chunk1 = data1[start_idx:end_idx] if start_idx < len(data1) else []\n",
    "        chunk2 = data2[start_idx:end_idx2] if start_idx < len(data2) else []\n",
    "\n",
    "        highlight = []\n",
    "\n",
    "        for j in range(max(len(chunk1), len(chunk2))):\n",
    "            if j >= len(chunk1) or j >= len(chunk2): highlight.append(\"yellow\")\n",
    "            elif chunk1[j] != chunk2[j]:             highlight.append(\"CYAN\")\n",
    "            elif chunk1[j] == 0:                     highlight.append(\"BLACK\")\n",
    "            else:                                    highlight.append(None)\n",
    "\n",
    "        line1 = hexdump_line(chunk1, bits, ascii=ascii, width=width, highlight=highlight) if chunk1 else \"\"\n",
    "        line2 = hexdump_line(chunk2, bits, ascii=ascii, width=width, highlight=highlight) if chunk2 else \"\"\n",
    "\n",
    "        sep = colored(\"=>\", \"CYAN\") if chunk1 != chunk2 else \"  \"\n",
    "        addr = f\"{i*(width//8):0{addr_digits}X}\"\n",
    "\n",
    "        result.append(f\"{addr}: {line1} {sep} {line2}\")\n",
    "\n",
    "    return \"\\n\".join(result)"
   ]
  },
  {
   "cell_type": "code",
   "execution_count": null,
   "id": "50dd1338",
   "metadata": {},
   "outputs": [
    {
     "name": "stdout",
     "output_type": "stream",
     "text": [
      "00: \u001b[90m00\u001b[0m 01 02 03 04 05 06 07  08 09 0A 0B 0C 0D 0E 0F  |\u001b[90m.\u001b[0m...............|    \u001b[90m00\u001b[0m 01 02 03 04 05 06 07  08 09 0A 0B 0C 0D 0E 0F  |\u001b[90m.\u001b[0m...............|\n",
      "10: 10 11 12 13 14 15 16 17  18 19 1A 1B 1C 1D 1E 1F  |................|    10 11 12 13 14 15 16 17  18 19 1A 1B 1C 1D 1E 1F  |................|\n",
      "20: \u001b[96m20\u001b[0m \u001b[96m21\u001b[0m \u001b[96m22\u001b[0m \u001b[96m23\u001b[0m 28 29 2A 2B  2C 2D 2E 2F 30 31 32 33  |\u001b[96m \u001b[0m\u001b[96m!\u001b[0m\u001b[96m\"\u001b[0m\u001b[96m#\u001b[0m()*+,-./0123| \u001b[96m=>\u001b[0m \u001b[96m01\u001b[0m \u001b[96m02\u001b[0m \u001b[96m03\u001b[0m \u001b[96m04\u001b[0m 28 29 2A 2B  2C 2D 2E 2F 30 31 32 33  |\u001b[96m.\u001b[0m\u001b[96m.\u001b[0m\u001b[96m.\u001b[0m\u001b[96m.\u001b[0m()*+,-./0123|\n",
      "30: 34 35 36 37 38 39 3A 3B  \u001b[96m3C\u001b[0m \u001b[96m3D\u001b[0m \u001b[96m3E\u001b[0m \u001b[96m3F\u001b[0m              |456789:;\u001b[96m<\u001b[0m\u001b[96m=\u001b[0m\u001b[96m>\u001b[0m\u001b[96m?\u001b[0m|     \u001b[96m=>\u001b[0m 34 35 36 37 38 39 3A 3B  \u001b[96m01\u001b[0m \u001b[96m02\u001b[0m \u001b[96m03\u001b[0m \u001b[96m04\u001b[0m \u001b[33m40\u001b[0m \u001b[33m41\u001b[0m        |456789:;\u001b[96m.\u001b[0m\u001b[96m.\u001b[0m\u001b[96m.\u001b[0m\u001b[96m.\u001b[0m\u001b[33m@\u001b[0m\u001b[33mA\u001b[0m|  \n"
     ]
    }
   ],
   "source": [
    "data1 = list(range(32)) + [32, 33, 34, 35] + list(range(40, 64))\n",
    "data2 = list(range(32)) + [1, 2, 3, 4]     + list(range(40, 60)) + [1,2,3,4,64, 65]\n",
    "\n",
    "print(hexdiff(data1, data2, 8))"
   ]
  },
  {
   "cell_type": "code",
   "execution_count": null,
   "id": "e0017cbc",
   "metadata": {},
   "outputs": [],
   "source": [
    "#| export\n",
    "\n",
    "class HexIntArray():\n",
    "    def __init__(self, data=None, bits=32, signed=False):\n",
    "        assert bits >= 4, f\"data.bits must be at least 4, got {bits}\"\n",
    "        # assert bits <= 64, f\"data.bits must not exceed 64, got {bits}\"\n",
    "        self.bits, self.signed = bits, signed\n",
    "        self.data = list(data) if data is not None else []\n",
    "\n",
    "    def __len__(self): return len(self.data)\n",
    "    def __getitem__(self, key): return self.data[key]\n",
    "    def __iter__(self): return iter(self.data)\n",
    "\n",
    "\n",
    "    @classmethod\n",
    "    def from_ctypes(cls, ct):\n",
    "        assert isinstance(ct, ctypes.Array), f\"Expected ct to be ctypes.Array, got {type(ct)}\"\n",
    "        assert ct._type_ in ctypes_int_types, f\"Expected ct._type to be in {ctypes_int_types}, got {ct._type_}\"\n",
    "        assert len(ct), f\"Expected ct to be non-empty\"\n",
    "        bits = 1 if ct._type_ == ctypes.c_bool else ctypes.sizeof(ct._type_)*8\n",
    "        return cls(ct, bits, ct._type_ in ctypes_signed_types)\n",
    "\n",
    "    def hexdump(self, ascii=None, width=128):\n",
    "        # validate_hexdump_input(data)\n",
    "        # bits = data[0].bits\n",
    "        width = max(width, self.bits)\n",
    "        hl = [\"BLACK\" if d==0 else None for d in self.data]\n",
    "        chunks = list(zip(batched(self.data, width // self.bits), batched(hl, width // self.bits)))\n",
    "        lines = [ hexdump_line(c, bits=self.bits, ascii=ascii, width=width, highlight=h) for c, h in chunks]\n",
    "        addr_digits = len(f\"{(len(lines) - 1)*(width//8):X}\")\n",
    "        return \"\\n\".join(f\"{(i*width)//8:0{addr_digits}X}: {lines[i]}\" for i in range(len(lines)))\n",
    "\n",
    "    def diff(self, other, ascii=None, width=128):\n",
    "        assert self.bits == other.bits, f\"Expected self.bits to be equal to other.bits, got {self.bits} and {other.bits}\"\n",
    "        return hexdiff(self.data, other.data, bits=self.bits, ascii=ascii, width=width)"
   ]
  },
  {
   "cell_type": "code",
   "execution_count": null,
   "id": "4b629761",
   "metadata": {},
   "outputs": [
    {
     "name": "stdout",
     "output_type": "stream",
     "text": [
      "0: 12345678 9ABCDEF0  \u001b[90m00000000\u001b[0m 00000001  |.4Vx....\u001b[90m....\u001b[0m....|\n"
     ]
    }
   ],
   "source": [
    "a = HexIntArray([0x12345678, 0x9ABCDEF0, 0, 1], bits=32, signed=False)\n",
    "print(a.hexdump(ascii=True))"
   ]
  },
  {
   "cell_type": "code",
   "execution_count": null,
   "id": "cd0539a4",
   "metadata": {},
   "outputs": [
    {
     "name": "stdout",
     "output_type": "stream",
     "text": [
      "00: \u001b[90m0000\u001b[0m 0001 0002 0003  0004 0005 0006 0007  |\u001b[90m..\u001b[0m..............|\n",
      "10: 0008 0009 000A 000B  000C 000D 000E 000F  |................|\n",
      "20: 0010 0011 0012 0013  0014 0015 0016 0017  |................|\n",
      "30: 0018 0019 001A 001B  001C 001D 001E 001F  |................|\n",
      "40: 0020 0021 0022 0023  0024 0025 0026 0027  |. .!.\".#.$.%.&.'|\n",
      "50: 0028 0029 002A 002B  002C 002D 002E 002F  |.(.).*.+.,.-.../|\n",
      "60: 0030 0031 0032 0033  0034 0035 0036 0037  |.0.1.2.3.4.5.6.7|\n",
      "70: 0038 0039 003A 003B  003C 003D 003E 003F  |.8.9.:.;.<.=.>.?|\n"
     ]
    }
   ],
   "source": [
    "a = (ctypes.c_uint16 * 64)(*range(64))\n",
    "print(HexIntArray.from_ctypes(a).hexdump(ascii=True))"
   ]
  },
  {
   "cell_type": "code",
   "execution_count": null,
   "id": "4dd771fe",
   "metadata": {},
   "outputs": [
    {
     "name": "stdout",
     "output_type": "stream",
     "text": [
      "00: 20 21 22 23 24 25 26 27  28 29 2A 2B 2C 2D 2E 2F  | !\"#$%&'()*+,-./|\n",
      "10: 30 31 32 33 34 35 36 37  38 39 3A 3B 3C 3D 3E 3F  |0123456789:;<=>?|\n",
      "20: 40 41 42 43 44 45 46 47  48 49 4A 4B 4C 4D 4E 4F  |@ABCDEFGHIJKLMNO|\n",
      "30: 50 51 52 53 54 55 56 57  58 59 5A 5B 5C 5D 5E 5F  |PQRSTUVWXYZ[\\]^_|\n"
     ]
    }
   ],
   "source": [
    "a = (ctypes.c_uint8 * 64)(*range(32, 96))\n",
    "print(ah:=HexIntArray.from_ctypes(a).hexdump())"
   ]
  },
  {
   "cell_type": "code",
   "execution_count": null,
   "id": "f3d845d7",
   "metadata": {},
   "outputs": [
    {
     "name": "stdout",
     "output_type": "stream",
     "text": [
      "00: 20 21 22 23 24 25 26 27  28 29 2A 2B 2C 2D 2E 2F  | !\"#$%&'()*+,-./|\n",
      "10: 30 11 22 33 44 55 66 77  38 39 3A 3B 3C 3D 3E 3F  |0.\"3DUfw89:;<=>?|\n",
      "20: 40 41 42 43 44 45 46 47  48 49 4A 4B 4C 4D 4E 4F  |@ABCDEFGHIJKLMNO|\n",
      "30: 50 51 52 53 54 55 56 57  58 59 5A 5B              |PQRSTUVWXYZ[|    \n"
     ]
    }
   ],
   "source": [
    "b = (ctypes.c_uint8 * 60).from_buffer_copy(a)\n",
    "b[17:24] = (ctypes.c_uint8 * 7)(0x11, 0x22, 0x33, 0x44, 0x55, 0x66, 0x77)\n",
    "print(bh:=HexIntArray.from_ctypes(b).hexdump())"
   ]
  },
  {
   "cell_type": "code",
   "execution_count": null,
   "id": "aeccd034",
   "metadata": {},
   "outputs": [
    {
     "name": "stdout",
     "output_type": "stream",
     "text": [
      "00: 20 21 22 23 24 25 26 27  28 29 2A 2B 2C 2D 2E 2F  | !\"#$%&'()*+,-./|    20 21 22 23 24 25 26 27  28 29 2A 2B 2C 2D 2E 2F  | !\"#$%&'()*+,-./|\n",
      "10: 30 \u001b[96m31\u001b[0m \u001b[96m32\u001b[0m 33 \u001b[96m34\u001b[0m \u001b[96m35\u001b[0m \u001b[96m36\u001b[0m \u001b[96m37\u001b[0m  38 39 3A 3B 3C 3D 3E 3F  |0\u001b[96m1\u001b[0m\u001b[96m2\u001b[0m3\u001b[96m4\u001b[0m\u001b[96m5\u001b[0m\u001b[96m6\u001b[0m\u001b[96m7\u001b[0m89:;<=>?| \u001b[96m=>\u001b[0m 30 \u001b[96m11\u001b[0m \u001b[96m22\u001b[0m 33 \u001b[96m44\u001b[0m \u001b[96m55\u001b[0m \u001b[96m66\u001b[0m \u001b[96m77\u001b[0m  38 39 3A 3B 3C 3D 3E 3F  |0\u001b[96m.\u001b[0m\u001b[96m\"\u001b[0m3\u001b[96mD\u001b[0m\u001b[96mU\u001b[0m\u001b[96mf\u001b[0m\u001b[96mw\u001b[0m89:;<=>?|\n",
      "20: 40 41 42 43 44 45 46 47  48 49 4A 4B 4C 4D 4E 4F  |@ABCDEFGHIJKLMNO|    40 41 42 43 44 45 46 47  48 49 4A 4B 4C 4D 4E 4F  |@ABCDEFGHIJKLMNO|\n",
      "30: 50 51 52 53 54 55 56 57  58 59 5A 5B \u001b[33m5C\u001b[0m \u001b[33m5D\u001b[0m \u001b[33m5E\u001b[0m \u001b[33m5F\u001b[0m  |PQRSTUVWXYZ[\u001b[33m\\\u001b[0m\u001b[33m]\u001b[0m\u001b[33m^\u001b[0m\u001b[33m_\u001b[0m| \u001b[96m=>\u001b[0m 50 51 52 53 54 55 56 57  58 59 5A 5B              |PQRSTUVWXYZ[|    \n"
     ]
    }
   ],
   "source": [
    "ah = HexIntArray.from_ctypes(a)\n",
    "bh = HexIntArray.from_ctypes(b)\n",
    "print(ah.diff(bh))\n"
   ]
  },
  {
   "cell_type": "code",
   "execution_count": null,
   "id": "4292af5e",
   "metadata": {},
   "outputs": [],
   "source": [
    "#| hide\n",
    "import nbdev; nbdev.nbdev_export()"
   ]
  }
 ],
 "metadata": {
  "kernelspec": {
   "display_name": "python3",
   "language": "python",
   "name": "python3"
  }
 },
 "nbformat": 4,
 "nbformat_minor": 5
}
