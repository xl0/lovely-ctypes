{
 "cells": [
  {
   "cell_type": "markdown",
   "metadata": {},
   "source": [
    "# HexInt\n",
    "\n",
    "> Fixed-width integer "
   ]
  },
  {
   "cell_type": "code",
   "execution_count": null,
   "metadata": {},
   "outputs": [],
   "source": [
    "#| default_exp hexint"
   ]
  },
  {
   "cell_type": "code",
   "execution_count": null,
   "metadata": {},
   "outputs": [],
   "source": [
    "#| hide\n",
    "from nbdev.showdoc import *"
   ]
  },
  {
   "cell_type": "code",
   "execution_count": null,
   "metadata": {},
   "outputs": [],
   "source": [
    "#| export\n",
    "import ctypes"
   ]
  },
  {
   "cell_type": "code",
   "execution_count": null,
   "metadata": {},
   "outputs": [],
   "source": [
    "#| export\n",
    "\n",
    "ctypes_int_types = (\n",
    "    ctypes.c_int8, ctypes.c_int16, ctypes.c_int32, ctypes.c_int64,\n",
    "    ctypes.c_uint8, ctypes.c_uint16, ctypes.c_uint32, ctypes.c_uint64,\n",
    "    ctypes.c_bool, ctypes.c_void_p,\n",
    ")\n",
    "\n",
    "ctypes_signed_types = {\n",
    "    ctypes.c_int8, ctypes.c_int16, ctypes.c_int32, ctypes.c_int64\n",
    "}"
   ]
  },
  {
   "cell_type": "markdown",
   "metadata": {},
   "source": [
    "Display ints of any any size as hex "
   ]
  },
  {
   "cell_type": "code",
   "execution_count": null,
   "metadata": {},
   "outputs": [],
   "source": [
    "#| export\n",
    "\n",
    "def hexint(value, bits):\n",
    "    \"Returns the value as a hex string (with leading 0s, without 0x prefix)\"\n",
    "    assert bits > 0\n",
    "    assert (bits & (bits - 1)) == 0, f\"Bits must be a power of 2, got {bits}\"\n",
    "    assert isinstance(value, int), f\"Expected int or None, got {type(value)}\"\n",
    "    mask = (1 << bits) - 1\n",
    "    return f\"{value&mask :0{bits // 4}X}\"\n"
   ]
  },
  {
   "cell_type": "code",
   "execution_count": null,
   "metadata": {},
   "outputs": [
    {
     "data": {
      "text/plain": [
       "('7B',\n",
       " '85',\n",
       " '0000007B',\n",
       " 'FFFFFFFFFFFFFFFFFFFFFFFFFFFFFF85',\n",
       " 'FFFFFFFFFFFFFFFFFFFFFFFFFFFFFFFFFFFFFFFFFFFFFFFFFFFFFFFFFFFFFFFF',\n",
       " '1234567890ABCDEF')"
      ]
     },
     "execution_count": null,
     "metadata": {},
     "output_type": "execute_result"
    }
   ],
   "source": [
    "hexint(123, 8), hexint(-123, 8), hexint(123, 32), hexint(-123, 128), hexint(-1, 256), hexint(0x1234567890abcdef, 64)"
   ]
  },
  {
   "cell_type": "markdown",
   "metadata": {},
   "source": [
    "And as ascii"
   ]
  },
  {
   "cell_type": "code",
   "execution_count": null,
   "metadata": {},
   "outputs": [],
   "source": [
    "#| export\n",
    "\n",
    "def asciiint(value: int, bits: int = 8):\n",
    "    if bits < 8: raise ValueError(\"to_ascii() requires the value to be at least 8 bits long\")\n",
    "    bytes_count = (bits + 7) // 8\n",
    "\n",
    "    result = \"\"\n",
    "    for i in range(bytes_count):\n",
    "        byte_val = (value >> (i * 8)) & 0xFF\n",
    "        result = (chr(byte_val) if 32 <= byte_val <= 126 else '.') + result\n",
    "    return result"
   ]
  },
  {
   "cell_type": "code",
   "execution_count": null,
   "metadata": {},
   "outputs": [
    {
     "data": {
      "text/plain": [
       "('.....Hello World', '.4Vx....', 'F', '........')"
      ]
     },
     "execution_count": null,
     "metadata": {},
     "output_type": "execute_result"
    }
   ],
   "source": [
    "asciiint(0x48656c6c6f20576f726c64, 128), asciiint(0x1234567890abcdef, 64), asciiint(70, 8), asciiint(-123, 64)"
   ]
  },
  {
   "cell_type": "markdown",
   "metadata": {},
   "source": [
    "A class allows us to pack the value and the bits information together, "
   ]
  },
  {
   "cell_type": "code",
   "execution_count": null,
   "metadata": {},
   "outputs": [],
   "source": [
    "#| export\n",
    "class HexInt(int):\n",
    "    def __new__(cls, value:int|None, bits:int=32, signed:bool=False):\n",
    "        assert bits > 0\n",
    "        assert (bits & (bits - 1)) == 0, f\"Bits must be a power of 2, got {bits}\"\n",
    "        assert isinstance(value, (int, type(None))), f\"Expected int or None, got {type(value)}\"\n",
    "\n",
    "        if value is None: value = 0\n",
    "\n",
    "        assert value >= 0 or signed, f\"Negative values are only allowed for signed types, got {value}\"\n",
    "        max_val = (1 << (bits - 1)) - 1 if signed else (1 << bits) - 1\n",
    "        min_val = -(1 << (bits - 1)) if signed else 0\n",
    "        assert min_val <= value <= max_val, f\"Value {value} doesn't fit in {bits} bits range [{min_val}, {max_val}]\"\n",
    "\n",
    "        i = super().__new__(cls, int(value))\n",
    "        i.bits, i.signed = bits, signed\n",
    "        return i\n",
    "\n",
    "    @classmethod\n",
    "    def from_ctype(cls, x:ctypes_int_types):\n",
    "        \"\"\"\n",
    "        Creates a HexInt from a ctypes int/bool/pointer type\n",
    "        \"\"\"\n",
    "        assert type(x) in ctypes_int_types, f\"Unexpected type {type(x)}, should be in {ctypes_int_types}\"\n",
    "        bits = 1 if type(x) is ctypes.c_bool else ctypes.sizeof(x) * 8\n",
    "        return cls(x.value, bits=bits, signed=type(x) in ctypes_signed_types)\n",
    "\n",
    "    def hex(self): return hexint(self, self.bits)\n",
    "    def ascii(self): return asciiint(self, self.bits)\n",
    "\n",
    "    def __repr__(self):\n",
    "        if self.bits == 1: return str(int(self))\n",
    "        return \"0x\" + self.hex() + (f\" ({int(self)})\" if self.signed and self < 0 else '')"
   ]
  },
  {
   "cell_type": "code",
   "execution_count": null,
   "metadata": {},
   "outputs": [
    {
     "data": {
      "text/plain": [
       "0x7B"
      ]
     },
     "execution_count": null,
     "metadata": {},
     "output_type": "execute_result"
    }
   ],
   "source": [
    "HexInt(123, bits=8)"
   ]
  },
  {
   "cell_type": "code",
   "execution_count": null,
   "metadata": {},
   "outputs": [
    {
     "data": {
      "text/plain": [
       "0x85 (-123)"
      ]
     },
     "execution_count": null,
     "metadata": {},
     "output_type": "execute_result"
    }
   ],
   "source": [
    "HexInt(-123, bits=8, signed=True)"
   ]
  },
  {
   "cell_type": "code",
   "execution_count": null,
   "metadata": {},
   "outputs": [
    {
     "data": {
      "text/plain": [
       "'.4Vx....'"
      ]
     },
     "execution_count": null,
     "metadata": {},
     "output_type": "execute_result"
    }
   ],
   "source": [
    "HexInt(0x1234567890abcdef, bits=64).ascii()"
   ]
  },
  {
   "cell_type": "code",
   "execution_count": null,
   "metadata": {},
   "outputs": [
    {
     "data": {
      "text/plain": [
       "0xFE4964B459BE4D56 (-123456789013443242)"
      ]
     },
     "execution_count": null,
     "metadata": {},
     "output_type": "execute_result"
    }
   ],
   "source": [
    "HexInt(-123456789013443242, bits=64, signed=True)"
   ]
  },
  {
   "cell_type": "code",
   "execution_count": null,
   "metadata": {},
   "outputs": [
    {
     "data": {
      "text/plain": [
       "0xFE4964B459BE4D56 (-123456789013443242)"
      ]
     },
     "execution_count": null,
     "metadata": {},
     "output_type": "execute_result"
    }
   ],
   "source": [
    "HexInt.from_ctype(ctypes.c_int64(-123456789013443242))"
   ]
  },
  {
   "cell_type": "markdown",
   "metadata": {},
   "source": [
    "This is useful for ctypes enum members"
   ]
  },
  {
   "cell_type": "code",
   "execution_count": null,
   "metadata": {},
   "outputs": [],
   "source": [
    "#| export\n",
    "\n",
    "class NamedInt(int):\n",
    "    _raw: int\n",
    "    def __new__(cls, val):\n",
    "       c = super().__new__(cls, val)\n",
    "       c._raw = val\n",
    "       return c\n",
    "\n",
    "    def __repr__(self): return f\"{self.__class__.__name__}({self._raw})\"\n",
    "\n",
    "def make_named_int(name, val):\n",
    "   return type(name, (NamedInt,), {})(val)"
   ]
  },
  {
   "cell_type": "code",
   "execution_count": null,
   "metadata": {},
   "outputs": [
    {
     "data": {
      "text/plain": [
       "TEST(123)"
      ]
     },
     "execution_count": null,
     "metadata": {},
     "output_type": "execute_result"
    }
   ],
   "source": [
    "make_named_int(\"TEST\", 123)"
   ]
  },
  {
   "cell_type": "code",
   "execution_count": null,
   "metadata": {},
   "outputs": [
    {
     "data": {
      "text/plain": [
       "TEST(0x7B)"
      ]
     },
     "execution_count": null,
     "metadata": {},
     "output_type": "execute_result"
    }
   ],
   "source": [
    "make_named_int(\"TEST\", HexInt(123, bits=8, signed=True))"
   ]
  },
  {
   "cell_type": "code",
   "execution_count": null,
   "metadata": {},
   "outputs": [],
   "source": [
    "#| hide\n",
    "import nbdev; nbdev.nbdev_export()"
   ]
  }
 ],
 "metadata": {
  "kernelspec": {
   "display_name": "python3",
   "language": "python",
   "name": "python3"
  }
 },
 "nbformat": 4,
 "nbformat_minor": 4
}
