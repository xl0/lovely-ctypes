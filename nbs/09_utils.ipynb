{
 "cells": [
  {
   "cell_type": "markdown",
   "id": "deae05e6",
   "metadata": {},
   "source": [
    "# Utils (internal)\n",
    "\n",
    "> A common place for various bits"
   ]
  },
  {
   "cell_type": "code",
   "execution_count": null,
   "id": "68337e27",
   "metadata": {},
   "outputs": [],
   "source": [
    "#| default_exp utils"
   ]
  },
  {
   "cell_type": "code",
   "execution_count": null,
   "id": "6fd899af",
   "metadata": {},
   "outputs": [],
   "source": [
    "#| hide\n",
    "from nbdev.showdoc import *"
   ]
  },
  {
   "cell_type": "code",
   "execution_count": null,
   "id": "ca0c9cab",
   "metadata": {},
   "outputs": [],
   "source": [
    "#| exporti\n",
    "from typing import Optional, Union, Tuple, TypeAlias"
   ]
  },
  {
   "cell_type": "code",
   "execution_count": null,
   "id": "317c89b6",
   "metadata": {},
   "outputs": [],
   "source": [
    "#| export\n",
    "\n",
    "# ~itertools.batched in python 3.12+\n",
    "def batched(lst, n): return [ lst[i:i+n] for i in range(0, len(lst), n) ]"
   ]
  },
  {
   "cell_type": "code",
   "execution_count": null,
   "id": "9517ca1a",
   "metadata": {},
   "outputs": [
    {
     "data": {
      "text/plain": [
       "[[0, 1, 2], [3, 4, 5], [6, 7, 8], [9, 10]]"
      ]
     },
     "execution_count": null,
     "metadata": {},
     "output_type": "execute_result"
    }
   ],
   "source": [
    "batched(list(range(11)), 3)"
   ]
  },
  {
   "cell_type": "code",
   "execution_count": null,
   "id": "a636f4d5",
   "metadata": {},
   "outputs": [],
   "source": [
    "#| exporti\n",
    "Color: TypeAlias = str | None\n",
    "ColorPair: TypeAlias = tuple[Color, Color]"
   ]
  },
  {
   "cell_type": "code",
   "execution_count": null,
   "id": "9f74d2f0",
   "metadata": {},
   "outputs": [],
   "source": [
    "#| export\n",
    "_ansicolors = ('black', 'red', 'green', 'yellow', 'blue', 'magenta', 'cyan', 'white')\n",
    "\n",
    "def ansicolor(color: str, background=False):\n",
    "    return f\"\\u001b[{10*background + 60*(color.upper() == color) + 30 + _ansicolors.index(color.lower())}m\"\n",
    "\n",
    "def colored(st, color: None|str|ColorPair):\n",
    "    if color is None:\n",
    "        return st\n",
    "    if isinstance(color, tuple):\n",
    "        text_color, bg_color = color\n",
    "    else:\n",
    "        text_color, bg_color = color, None\n",
    "\n",
    "    assert text_color is None or text_color.lower() in _ansicolors, \\\n",
    "        f\"Text color should be one of {list(_ansicolors) + [c.upper() for c in _ansicolors]}\"\n",
    "    assert bg_color is None or bg_color.lower() in _ansicolors, \\\n",
    "        f\"Background color should be one of {list(_ansicolors) + [c.upper() for c in _ansicolors]}\"\n",
    "\n",
    "    result = st\n",
    "    if text_color:\n",
    "        result = f\"{ansicolor(text_color)}{result}\"\n",
    "    if bg_color:\n",
    "        result = f\"{ansicolor(bg_color, background=True)}{result}\"\n",
    "\n",
    "    return f\"{result}\\u001b[0m\""
   ]
  },
  {
   "cell_type": "code",
   "execution_count": null,
   "id": "4364220c",
   "metadata": {},
   "outputs": [
    {
     "name": "stdout",
     "output_type": "stream",
     "text": [
      "\u001b[94mHello\u001b[0m \u001b[42m\u001b[31mWorld\u001b[0m \u001b[41m!\u001b[0m\n"
     ]
    }
   ],
   "source": [
    "print(f\"{colored(\"Hello\", \"BLUE\")} {colored(\"World\", (\"red\", \"green\"))} {colored(\"!\", (None, \"red\"))}\")"
   ]
  },
  {
   "cell_type": "code",
   "execution_count": null,
   "id": "55c36707",
   "metadata": {},
   "outputs": [],
   "source": [
    "#| hide\n",
    "import nbdev; nbdev.nbdev_export()"
   ]
  }
 ],
 "metadata": {
  "kernelspec": {
   "display_name": "python3",
   "language": "python",
   "name": "python3"
  }
 },
 "nbformat": 4,
 "nbformat_minor": 5
}
